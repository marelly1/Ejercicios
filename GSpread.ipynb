{
  "nbformat": 4,
  "nbformat_minor": 0,
  "metadata": {
    "colab": {
      "name": "GSpread.ipynb",
      "provenance": [],
      "collapsed_sections": [],
      "authorship_tag": "ABX9TyNzsH38dmrRP+b/6rh6dnoF",
      "include_colab_link": true
    },
    "kernelspec": {
      "name": "python3",
      "display_name": "Python 3"
    }
  },
  "cells": [
    {
      "cell_type": "markdown",
      "metadata": {
        "id": "view-in-github",
        "colab_type": "text"
      },
      "source": [
        "<a href=\"https://colab.research.google.com/github/marelly1/Ejercicios/blob/master/GSpread.ipynb\" target=\"_parent\"><img src=\"https://colab.research.google.com/assets/colab-badge.svg\" alt=\"Open In Colab\"/></a>"
      ]
    },
    {
      "cell_type": "code",
      "metadata": {
        "id": "_TtfP6JEzmZD",
        "colab_type": "code",
        "colab": {}
      },
      "source": [
        "from google.colab import auth\n",
        "auth.authenticate_user()\n",
        "\n",
        "import gspread\n",
        "from oauth2client.client import GoogleCredentials\n",
        "\n",
        "gc = gspread.authorize(GoogleCredentials.get_application_default())"
      ],
      "execution_count": 1,
      "outputs": []
    },
    {
      "cell_type": "code",
      "metadata": {
        "id": "2BJ2ClMzV28V",
        "colab_type": "code",
        "colab": {}
      },
      "source": [
        "#se abre el archivo que está en hoja de calculo de google \n",
        "sh =gc.open(\"turismoYT\")\n",
        "worksheet=gc.open(\"turismoYT\").sheet1\n",
        "rows=worksheet.get_all_values()"
      ],
      "execution_count": 3,
      "outputs": []
    },
    {
      "cell_type": "code",
      "metadata": {
        "id": "ZCxQlaBZWHDH",
        "colab_type": "code",
        "colab": {}
      },
      "source": [
        "#le adicionamos una nueva hoja llamada resultados con 100 filas y 20 columnas\n",
        "wks=sh.add_worksheet(title=\"resultados\",rows=\"100\",cols=\"20\")"
      ],
      "execution_count": 4,
      "outputs": []
    },
    {
      "cell_type": "code",
      "metadata": {
        "id": "FEO7DjOtWlCB",
        "colab_type": "code",
        "colab": {
          "base_uri": "https://localhost:8080/",
          "height": 102
        },
        "outputId": "2ef5acff-e382-4e0e-e21a-7bf9292eae87"
      },
      "source": [
        "#aquí se prueba que efectivamente no hay ninguna error y se puede ingresar\n",
        "#el número 7 en la hoja de cálculo de google\n",
        "wks.update_acell(\"B5\",7)"
      ],
      "execution_count": 5,
      "outputs": [
        {
          "output_type": "execute_result",
          "data": {
            "text/plain": [
              "{'spreadsheetId': '1Pf0Bqf85Bz4BmlZEzG0ZyEzZvAN_ZUElLbiAYS7wA74',\n",
              " 'updatedCells': 1,\n",
              " 'updatedColumns': 1,\n",
              " 'updatedRange': 'resultados!B5',\n",
              " 'updatedRows': 1}"
            ]
          },
          "metadata": {
            "tags": []
          },
          "execution_count": 5
        }
      ]
    },
    {
      "cell_type": "code",
      "metadata": {
        "id": "PlXVeNLjW0Uo",
        "colab_type": "code",
        "colab": {
          "base_uri": "https://localhost:8080/",
          "height": 34
        },
        "outputId": "3bae9a3c-8da3-420f-ccca-6d7152790838"
      },
      "source": [
        "import pandas as pd\n",
        "df=pd.DataFrame.from_records(rows)\n",
        "print(list(df))"
      ],
      "execution_count": 6,
      "outputs": [
        {
          "output_type": "stream",
          "text": [
            "[0, 1, 2, 3, 4, 5, 6, 7, 8, 9]\n"
          ],
          "name": "stdout"
        }
      ]
    },
    {
      "cell_type": "code",
      "metadata": {
        "id": "msACTLB-W_3J",
        "colab_type": "code",
        "colab": {
          "base_uri": "https://localhost:8080/",
          "height": 54
        },
        "outputId": "0b347b43-ecd2-4e09-ff39-00826f59acbb"
      },
      "source": [
        "#aquí le estamos diciendo que la fila número 1 será el título de las columnas\n",
        "df.columns=df.iloc[0]\n",
        "print(list(df))"
      ],
      "execution_count": 8,
      "outputs": [
        {
          "output_type": "stream",
          "text": [
            "['PROD_EST', 'ANIO', 'MES', 'TIPO', 'TIPO_DE_TRANSPORTE', 'CATEGORIA', 'VARIABLE', 'VALOR', 'UNIDAD_DE_MEDIDA', 'ESTATUS']\n"
          ],
          "name": "stdout"
        }
      ]
    },
    {
      "cell_type": "code",
      "metadata": {
        "id": "wElRgwchXJVW",
        "colab_type": "code",
        "colab": {
          "base_uri": "https://localhost:8080/",
          "height": 34
        },
        "outputId": "2dad0d1e-454a-44e3-e25c-7086c79c6b71"
      },
      "source": [
        "#aquí estamos cambiando a tipo de dato númerico todos los valores de la columna VALOR\n",
        "df['VALOR']=pd.to_numeric(df['VALOR'],errors=\"coerce\")\n",
        "print(df['VALOR'].max())\n",
        "maximo=df['VALOR'].max()"
      ],
      "execution_count": 9,
      "outputs": [
        {
          "output_type": "stream",
          "text": [
            "2089029913.0\n"
          ],
          "name": "stdout"
        }
      ]
    },
    {
      "cell_type": "code",
      "metadata": {
        "id": "qGCCbECkXQN5",
        "colab_type": "code",
        "colab": {
          "base_uri": "https://localhost:8080/",
          "height": 102
        },
        "outputId": "c8cb3435-5787-4389-f17f-3b16221c340e"
      },
      "source": [
        "#Aquí estamos pasando como dato el valor máximo de la columna valor a la celda C5 \n",
        "#la hoja resultado de la hoja de cálculo de google turismoYT \n",
        "wks.update_acell(\"C5\",maximo)"
      ],
      "execution_count": 10,
      "outputs": [
        {
          "output_type": "execute_result",
          "data": {
            "text/plain": [
              "{'spreadsheetId': '1Pf0Bqf85Bz4BmlZEzG0ZyEzZvAN_ZUElLbiAYS7wA74',\n",
              " 'updatedCells': 1,\n",
              " 'updatedColumns': 1,\n",
              " 'updatedRange': 'resultados!C5',\n",
              " 'updatedRows': 1}"
            ]
          },
          "metadata": {
            "tags": []
          },
          "execution_count": 10
        }
      ]
    }
  ]
}