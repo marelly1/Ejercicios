{
  "nbformat": 4,
  "nbformat_minor": 0,
  "metadata": {
    "colab": {
      "name": "SolDepuracion.ipynb",
      "provenance": [],
      "collapsed_sections": [],
      "authorship_tag": "ABX9TyO2NnoAqhu590DEFU4Oqf6x",
      "include_colab_link": true
    },
    "kernelspec": {
      "name": "python3",
      "display_name": "Python 3"
    }
  },
  "cells": [
    {
      "cell_type": "markdown",
      "metadata": {
        "id": "view-in-github",
        "colab_type": "text"
      },
      "source": [
        "<a href=\"https://colab.research.google.com/github/marelly1/Ejercicios/blob/master/SolDepuracion.ipynb\" target=\"_parent\"><img src=\"https://colab.research.google.com/assets/colab-badge.svg\" alt=\"Open In Colab\"/></a>"
      ]
    },
    {
      "cell_type": "markdown",
      "metadata": {
        "id": "NbVGA70qapeP",
        "colab_type": "text"
      },
      "source": [
        "#                              **Ejercicios de Python: Depuración**"
      ]
    },
    {
      "cell_type": "markdown",
      "metadata": {
        "id": "Ihl-hvu4X9J7",
        "colab_type": "text"
      },
      "source": [
        "**Ejercicio 1:**\n",
        "\n",
        "**Corregir los errores sintácticos del siguiente programa:**\n",
        "\n",
        "![texto alternativo](https://drive.google.com/uc?export=view&id=1zNsLHrR4Rxi9XaNvTtWJfZXsa05xnerF)"
      ]
    },
    {
      "cell_type": "code",
      "metadata": {
        "id": "MMGc4FlRX8p3",
        "colab_type": "code",
        "colab": {
          "base_uri": "https://localhost:8080/",
          "height": 51
        },
        "outputId": "916fb127-a103-4c02-e82e-bed9d2496a94"
      },
      "source": [
        "contrasegna = input(\"Introduce la contraseña: \")\n",
        "if \"sesamo\" in contrasegna:\n",
        "#if contraseña in ['sesamo']:\n",
        "  print('Pasa')\n",
        "else:\n",
        "  print('No pasa')"
      ],
      "execution_count": 6,
      "outputs": [
        {
          "output_type": "stream",
          "text": [
            "Introduce la contraseña: sesamo\n",
            "Pasa\n"
          ],
          "name": "stdout"
        }
      ]
    },
    {
      "cell_type": "code",
      "metadata": {
        "id": "X_mCyUecxLrB",
        "colab_type": "code",
        "colab": {}
      },
      "source": [
        "#------------------------------------------------------------\n",
        "#SOLUCION PROPUESTA POR EL AUTOR\n",
        "contraseña = input('Introduce la contraseña: ')\n",
        "if contraseña in ['sesamo']:\n",
        "    print('Pasa')\n",
        "else:\n",
        "    print('No pasa')"
      ],
      "execution_count": null,
      "outputs": []
    },
    {
      "cell_type": "markdown",
      "metadata": {
        "id": "9ONtuNBpX_Ur",
        "colab_type": "text"
      },
      "source": [
        "**Ejercicio 2**\n",
        "\n",
        "**Detectar y corregir los errores del siguiente programa que aplica el iva a una factura:**\n",
        "\n",
        "![texto alternativo](https://drive.google.com/uc?export=view&id=1r2HkpZ90G0YMaeIdpJ6Y3PX3fFv2yh36)\n"
      ]
    },
    {
      "cell_type": "code",
      "metadata": {
        "id": "vaD2BloKX4a2",
        "colab_type": "code",
        "colab": {
          "base_uri": "https://localhost:8080/",
          "height": 51
        },
        "outputId": "ac1c1073-9288-43d2-e749-8db74d6ec0ed"
      },
      "source": [
        "base = float(input('Introduce la base imponible de la factura: '))\n",
        "\n",
        "def aplica_iva(base, iva = 21):\n",
        "  base = base * iva   \n",
        "  return base \n",
        "\n",
        "print(aplica_iva(base))\n"
      ],
      "execution_count": 20,
      "outputs": [
        {
          "output_type": "stream",
          "text": [
            "Introduce la base imponible de la factura: 1000\n",
            "21000.0\n"
          ],
          "name": "stdout"
        }
      ]
    },
    {
      "cell_type": "code",
      "metadata": {
        "id": "7lsA391txXkP",
        "colab_type": "code",
        "colab": {}
      },
      "source": [
        "#------------------------------------------------------------\n",
        "#SOLUCION PROPUESTA POR EL AUTOR\n",
        "base = float(input('Introduce la base imponible de la factura: '))\n",
        "\n",
        "def aplica_iva(base, iva = 21):\n",
        "    base += base * iva / 100  \n",
        "    return base \n",
        "\n",
        "print(aplica_iva(base))"
      ],
      "execution_count": null,
      "outputs": []
    },
    {
      "cell_type": "markdown",
      "metadata": {
        "id": "DpgEUr2WYC7p",
        "colab_type": "text"
      },
      "source": [
        "**Ejercicio 3**\n",
        "\n",
        "**Detectar y corregir los errores del siguiente programa que calcula el producto escalar de dos vectores:**\n",
        "\n",
        "![texto alternativo](https://drive.google.com/uc?export=view&id=1Kap27EPiWmADAKpdPrkM6sTr8k_wCdlN)"
      ]
    },
    {
      "cell_type": "code",
      "metadata": {
        "id": "FF4yoDNTYCKi",
        "colab_type": "code",
        "colab": {
          "base_uri": "https://localhost:8080/",
          "height": 34
        },
        "outputId": "491b2f24-4f27-43a4-f5b4-f374a7ee6df9"
      },
      "source": [
        "u = (1, 2, 3)\n",
        "v = (4, 5, 6)\n",
        "producto=0\n",
        "def producto_escalar(u,v):\n",
        "  global producto\n",
        "  for i in range(len(u)):\n",
        "     producto+=u[i]*v[i]\n",
        "  return producto\n",
        "\n",
        "print(producto_escalar(u,v))"
      ],
      "execution_count": 46,
      "outputs": [
        {
          "output_type": "stream",
          "text": [
            "32\n"
          ],
          "name": "stdout"
        }
      ]
    },
    {
      "cell_type": "code",
      "metadata": {
        "id": "UWL-rWkhxeGg",
        "colab_type": "code",
        "colab": {}
      },
      "source": [
        "#------------------------------------------------------------\n",
        "#SOLUCION PROPUESTA POR EL AUTOR\n",
        "u = [1, 2, 3]\n",
        "v = [4, 5, 6]\n",
        "\n",
        "def producto_escalar(u, v):\n",
        "    for i in range(len(u)):\n",
        "        u[i] *= v[i]\n",
        "    return sum(u)\n",
        "\n",
        "print(producto_escalar(u, v))"
      ],
      "execution_count": null,
      "outputs": []
    },
    {
      "cell_type": "markdown",
      "metadata": {
        "id": "v9bvLnShYGoq",
        "colab_type": "text"
      },
      "source": [
        "**Ejercicio 4**\n",
        "\n",
        "**Detectar y corregir los errores del siguiente programa que devuelve y elimina el teléfono de un listín telefónico a través del nombre del usuario:**\n",
        "\n",
        "![texto alternativo](https://drive.google.com/uc?export=view&id=1vyHmhzmfTVjoubdEihPuu84fqi2bHYmG)"
      ]
    },
    {
      "cell_type": "code",
      "metadata": {
        "id": "RW0__oYXYGTi",
        "colab_type": "code",
        "colab": {
          "base_uri": "https://localhost:8080/",
          "height": 51
        },
        "outputId": "aa4bf722-e0ad-48bf-fb42-53b9cd1d3e9f"
      },
      "source": [
        "listin = {'Juan':123456789, 'Pedro':987654321}\n",
        "\n",
        "def elimina(listin,usuario=\"Pedro\"):\n",
        "  print(\"Eliminado {} cuyo telp {}\".format(usuario,listin[usuario]))\n",
        "  del listin[usuario]\n",
        "  return listin\n",
        "\n",
        "print(elimina(listin))"
      ],
      "execution_count": 58,
      "outputs": [
        {
          "output_type": "stream",
          "text": [
            "Eliminado Pedro : 987654321\n",
            "{'Juan': 123456789}\n"
          ],
          "name": "stdout"
        }
      ]
    },
    {
      "cell_type": "code",
      "metadata": {
        "id": "hQYil5ZhxmUY",
        "colab_type": "code",
        "colab": {}
      },
      "source": [
        "#------------------------------------------------------------\n",
        "#SOLUCION PROPUESTA POR EL AUTOR\n",
        "listin = {'Juan':123456789, 'Pedro':987654321}\n",
        "\n",
        "def elimina(listin, usuario):\n",
        "    return listin.pop(usuario, '')\n",
        "\n",
        "print(elimina(listin, 'Pablo'))"
      ],
      "execution_count": null,
      "outputs": []
    },
    {
      "cell_type": "markdown",
      "metadata": {
        "id": "kdUSkuarYJHL",
        "colab_type": "text"
      },
      "source": [
        "**Ejercicio 5**\n",
        "\n",
        "**Detectar y corregir los errores del siguiente programa que multiplica dos matrices:**\n",
        "\n",
        "![texto alternativo](https://drive.google.com/uc?export=view&id=1D8alQqN12xn3f8u3LMnqqrGj1mPhPIxE)"
      ]
    },
    {
      "cell_type": "code",
      "metadata": {
        "id": "RnTIz1u1lrqB",
        "colab_type": "code",
        "colab": {
          "base_uri": "https://localhost:8080/",
          "height": 34
        },
        "outputId": "2680227e-038c-4ecb-a5e9-d72156042b8b"
      },
      "source": [
        "a = ((1, 2, 3),\n",
        "     (3, 2, 1))\n",
        "b = ((1, 2),\n",
        "     (3, 4),\n",
        "     (5, 6))\n",
        "\n",
        "def producto(a,b):\n",
        "  producto = [[0,0],\n",
        "              [0,0]]\n",
        "  for i in range(len(a)):\n",
        "    for j in range(len(b[0])):\n",
        "      for k in range(len(a[0])):\n",
        "        producto[i][j]+= a[i][k] * b[k][j]\n",
        "  return tuple(producto)\n",
        "print(producto(a,b))"
      ],
      "execution_count": 91,
      "outputs": [
        {
          "output_type": "stream",
          "text": [
            "([22, 28], [14, 20])\n"
          ],
          "name": "stdout"
        }
      ]
    },
    {
      "cell_type": "code",
      "metadata": {
        "id": "RBs18twJx-xk",
        "colab_type": "code",
        "colab": {
          "base_uri": "https://localhost:8080/",
          "height": 34
        },
        "outputId": "b8f5fd1a-b7cc-4646-85e4-889c095bd276"
      },
      "source": [
        "#------------------------------------------------------------\n",
        "#SOLUCION PROPUESTA POR EL AUTOR\n",
        "a = ((1, 2, 3),\n",
        "     (3, 2, 1))\n",
        "b = ((1, 2),\n",
        "     (3, 4),\n",
        "     (5, 6))\n",
        "\n",
        "def producto(a, b):\n",
        "    producto = []\n",
        "    for i in range(len(a)):\n",
        "        fila = [] \n",
        "        for j in range(len(b[0])):\n",
        "            suma = 0\n",
        "            for k in range(len(a[0])):\n",
        "                suma += a[i][k] * b[k][j]\n",
        "            fila.append(suma)\n",
        "        producto.append(tuple(fila))\n",
        "    return tuple(producto)\n",
        "\n",
        "print(producto(a, b))"
      ],
      "execution_count": 85,
      "outputs": [
        {
          "output_type": "stream",
          "text": [
            "((22, 28), (14, 20))\n"
          ],
          "name": "stdout"
        }
      ]
    }
  ]
}