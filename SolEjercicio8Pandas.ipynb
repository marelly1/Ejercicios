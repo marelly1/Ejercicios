{
  "nbformat": 4,
  "nbformat_minor": 0,
  "metadata": {
    "colab": {
      "name": "SolEjercicio8Pandas.ipynb",
      "provenance": [],
      "collapsed_sections": [],
      "authorship_tag": "ABX9TyMu/ewwNRvVwRwPxvIBeBwN",
      "include_colab_link": true
    },
    "kernelspec": {
      "name": "python3",
      "display_name": "Python 3"
    }
  },
  "cells": [
    {
      "cell_type": "markdown",
      "metadata": {
        "id": "view-in-github",
        "colab_type": "text"
      },
      "source": [
        "<a href=\"https://colab.research.google.com/github/marelly1/Ejercicios/blob/master/SolEjercicio8Pandas.ipynb\" target=\"_parent\"><img src=\"https://colab.research.google.com/assets/colab-badge.svg\" alt=\"Open In Colab\"/></a>"
      ]
    },
    {
      "cell_type": "markdown",
      "metadata": {
        "id": "bct0NRrp9zaX",
        "colab_type": "text"
      },
      "source": [
        "**Ejercicio 8:\n",
        "Los ficheros emisiones-2016.csv, emisiones-2017.csv, emisiones-2018.csv y emisiones-2019.csv, contienen datos sobre las emisiones contaminates en la ciudad de Madrid en los años 2016, 2017, 2018 y 2019 respectivamente. Escribir un programa con los siguientes requisitos:**"
      ]
    },
    {
      "cell_type": "code",
      "metadata": {
        "id": "KqDXlsjQ9pla",
        "colab_type": "code",
        "colab": {}
      },
      "source": [
        "import pandas as pd\n",
        "import numpy as np\n",
        "from google.colab import files\n",
        "urlEmisiones2016=\"https://raw.githubusercontent.com/marelly1/pandas/master/emisiones-2016.csv\"\n",
        "urlEmisiones2017=\"https://raw.githubusercontent.com/marelly1/pandas/master/emisiones-2017.csv\"\n",
        "urlEmisiones2018=\"https://raw.githubusercontent.com/marelly1/pandas/master/emisiones-2018.csv\"\n",
        "urlEmisiones2019=\"https://raw.githubusercontent.com/marelly1/pandas/master/emisiones-2019.csv\""
      ],
      "execution_count": 1,
      "outputs": []
    },
    {
      "cell_type": "markdown",
      "metadata": {
        "id": "LJX3Tszf94a6",
        "colab_type": "text"
      },
      "source": [
        "1.   **Generar un DataFrame con los datos de los cuatro ficheros.**"
      ]
    },
    {
      "cell_type": "code",
      "metadata": {
        "id": "tm__uvFW_6FP",
        "colab_type": "code",
        "colab": {}
      },
      "source": [
        "datos=pd.read_csv(urlEmisiones2016, encoding=\"Latin-1\", sep=\";\",decimal=\",\")\n",
        "df=pd.DataFrame(datos)\n",
        "datos1=pd.read_csv(urlEmisiones2017, encoding=\"Latin-1\", sep=\";\",decimal=\",\")\n",
        "df1=pd.DataFrame(datos1)\n",
        "datos2=pd.read_csv(urlEmisiones2018, encoding=\"Latin-1\", sep=\";\",decimal=\",\")\n",
        "df2=pd.DataFrame(datos2)\n",
        "datos3=pd.read_csv(urlEmisiones2019, encoding=\"Latin-1\", sep=\";\",decimal=\",\")\n",
        "df3=pd.DataFrame(datos3)\n",
        "#Concatenando los 4 dataframes\n",
        "ab=pd.concat([df, df1,df2,df3])\n",
        "#exportando el archivo a un csv\n",
        "#ab.to_csv(\"concatenado.csv\", encoding=\"Latin-1\")\n",
        "#files.download(\"concatenado.csv\")\n",
        "\n",
        "#ab[dias] = ab[dias].apply(pd.to_numeric)\n"
      ],
      "execution_count": 4,
      "outputs": []
    },
    {
      "cell_type": "markdown",
      "metadata": {
        "id": "6ZqaSUIE-GCi",
        "colab_type": "text"
      },
      "source": [
        "2.   **Filtrar las columnas del DataFrame para quedarse con las columnas ESTACION, MAGNITUD, AÑO, MES y las correspondientes a los días D01, D02, etc.**"
      ]
    },
    {
      "cell_type": "code",
      "metadata": {
        "id": "UVVa6yZpYd7Q",
        "colab_type": "code",
        "colab": {}
      },
      "source": [
        "filtro=ab[[\"ESTACION\",\"MAGNITUD\",\"ANO\",\"MES\",\"D01\",\"D02\",'D03','D04','D05','D06','D07','D08','D09','D10','D11','D12','D13','D14','D15','D16','D17','D18','D19','D20','D21','D22','D23','D24','D25','D26','D27','D28','D29','D30','D31']]\n"
      ],
      "execution_count": 5,
      "outputs": []
    },
    {
      "cell_type": "markdown",
      "metadata": {
        "id": "r5kjDXzh-N6K",
        "colab_type": "text"
      },
      "source": [
        "3.   **Reestructurar el DataFrame para que los valores de los contaminantes de las columnas de los días aparezcan en una única columna.**"
      ]
    },
    {
      "cell_type": "code",
      "metadata": {
        "id": "p5Fu5miD9bbA",
        "colab_type": "code",
        "colab": {
          "base_uri": "https://localhost:8080/",
          "height": 142
        },
        "outputId": "78a84c1e-52c8-45eb-eaf7-4024cd09521f"
      },
      "source": [
        "nuevo = filtro.melt(id_vars=['ESTACION', 'MAGNITUD', 'ANO', 'MES'], var_name='DIA', value_name='VALOR')\n",
        "nuevo.head(3)"
      ],
      "execution_count": 6,
      "outputs": [
        {
          "output_type": "execute_result",
          "data": {
            "text/html": [
              "<div>\n",
              "<style scoped>\n",
              "    .dataframe tbody tr th:only-of-type {\n",
              "        vertical-align: middle;\n",
              "    }\n",
              "\n",
              "    .dataframe tbody tr th {\n",
              "        vertical-align: top;\n",
              "    }\n",
              "\n",
              "    .dataframe thead th {\n",
              "        text-align: right;\n",
              "    }\n",
              "</style>\n",
              "<table border=\"1\" class=\"dataframe\">\n",
              "  <thead>\n",
              "    <tr style=\"text-align: right;\">\n",
              "      <th></th>\n",
              "      <th>ESTACION</th>\n",
              "      <th>MAGNITUD</th>\n",
              "      <th>ANO</th>\n",
              "      <th>MES</th>\n",
              "      <th>DIA</th>\n",
              "      <th>VALOR</th>\n",
              "    </tr>\n",
              "  </thead>\n",
              "  <tbody>\n",
              "    <tr>\n",
              "      <th>0</th>\n",
              "      <td>4</td>\n",
              "      <td>1</td>\n",
              "      <td>2016</td>\n",
              "      <td>1</td>\n",
              "      <td>D01</td>\n",
              "      <td>00008</td>\n",
              "    </tr>\n",
              "    <tr>\n",
              "      <th>1</th>\n",
              "      <td>4</td>\n",
              "      <td>1</td>\n",
              "      <td>2016</td>\n",
              "      <td>2</td>\n",
              "      <td>D01</td>\n",
              "      <td>00012</td>\n",
              "    </tr>\n",
              "    <tr>\n",
              "      <th>2</th>\n",
              "      <td>4</td>\n",
              "      <td>1</td>\n",
              "      <td>2016</td>\n",
              "      <td>3</td>\n",
              "      <td>D01</td>\n",
              "      <td>00011</td>\n",
              "    </tr>\n",
              "  </tbody>\n",
              "</table>\n",
              "</div>"
            ],
            "text/plain": [
              "   ESTACION  MAGNITUD   ANO  MES  DIA  VALOR\n",
              "0         4         1  2016    1  D01  00008\n",
              "1         4         1  2016    2  D01  00012\n",
              "2         4         1  2016    3  D01  00011"
            ]
          },
          "metadata": {
            "tags": []
          },
          "execution_count": 6
        }
      ]
    },
    {
      "cell_type": "markdown",
      "metadata": {
        "id": "21h9I2xi-WSL",
        "colab_type": "text"
      },
      "source": [
        "4.   **Añadir una columna con la fecha a partir de la concatenación del año, el mes y el día (usar el módulo datetime).**"
      ]
    },
    {
      "cell_type": "code",
      "metadata": {
        "id": "fgEuRwKhMgSU",
        "colab_type": "code",
        "colab": {
          "base_uri": "https://localhost:8080/",
          "height": 119
        },
        "outputId": "e1ef7ed4-084f-4d74-9b53-192a034c37d1"
      },
      "source": [
        "nuevo[\"DIA\"] = nuevo.DIA.str.extract(r\"([-+]?\\d*\\.\\d+|\\d+)\", expand=False).astype(np.int64)\n",
        "\n",
        "nuevo[\"FECHA\"]=pd.to_datetime((nuevo.ANO*10000+nuevo.MES*100+nuevo.DIA).apply(str),format=\"%Y%m%d\", errors='coerce')\n",
        "print(nuevo.head(5))"
      ],
      "execution_count": 7,
      "outputs": [
        {
          "output_type": "stream",
          "text": [
            "   ESTACION  MAGNITUD   ANO  MES  DIA  VALOR      FECHA\n",
            "0         4         1  2016    1    1  00008 2016-01-01\n",
            "1         4         1  2016    2    1  00012 2016-02-01\n",
            "2         4         1  2016    3    1  00011 2016-03-01\n",
            "3         4         1  2016    4    1  00008 2016-04-01\n",
            "4         4         1  2016    5    1  00007 2016-05-01\n"
          ],
          "name": "stdout"
        }
      ]
    },
    {
      "cell_type": "markdown",
      "metadata": {
        "id": "eEhowpLm-fX5",
        "colab_type": "text"
      },
      "source": [
        "5.   **Eliminar las filas con fechas no válidas (utilizar la función isnat del módulo numpy) y ordenar el DataFrame por estaciones, contaminantes y fecha.**"
      ]
    },
    {
      "cell_type": "code",
      "metadata": {
        "id": "OyDhKa2EeHz_",
        "colab_type": "code",
        "colab": {
          "base_uri": "https://localhost:8080/",
          "height": 419
        },
        "outputId": "82deb147-7619-4ce6-c4bb-b39ae812b121"
      },
      "source": [
        "nuevo = nuevo.drop(nuevo[np.isnat(nuevo.FECHA)].index)\n",
        "nuevo.sort_values(['ESTACION', 'MAGNITUD', 'FECHA'])\n",
        "nuevo"
      ],
      "execution_count": 8,
      "outputs": [
        {
          "output_type": "execute_result",
          "data": {
            "text/html": [
              "<div>\n",
              "<style scoped>\n",
              "    .dataframe tbody tr th:only-of-type {\n",
              "        vertical-align: middle;\n",
              "    }\n",
              "\n",
              "    .dataframe tbody tr th {\n",
              "        vertical-align: top;\n",
              "    }\n",
              "\n",
              "    .dataframe thead th {\n",
              "        text-align: right;\n",
              "    }\n",
              "</style>\n",
              "<table border=\"1\" class=\"dataframe\">\n",
              "  <thead>\n",
              "    <tr style=\"text-align: right;\">\n",
              "      <th></th>\n",
              "      <th>ESTACION</th>\n",
              "      <th>MAGNITUD</th>\n",
              "      <th>ANO</th>\n",
              "      <th>MES</th>\n",
              "      <th>DIA</th>\n",
              "      <th>VALOR</th>\n",
              "      <th>FECHA</th>\n",
              "    </tr>\n",
              "  </thead>\n",
              "  <tbody>\n",
              "    <tr>\n",
              "      <th>0</th>\n",
              "      <td>4</td>\n",
              "      <td>1</td>\n",
              "      <td>2016</td>\n",
              "      <td>1</td>\n",
              "      <td>1</td>\n",
              "      <td>00008</td>\n",
              "      <td>2016-01-01</td>\n",
              "    </tr>\n",
              "    <tr>\n",
              "      <th>1</th>\n",
              "      <td>4</td>\n",
              "      <td>1</td>\n",
              "      <td>2016</td>\n",
              "      <td>2</td>\n",
              "      <td>1</td>\n",
              "      <td>00012</td>\n",
              "      <td>2016-02-01</td>\n",
              "    </tr>\n",
              "    <tr>\n",
              "      <th>2</th>\n",
              "      <td>4</td>\n",
              "      <td>1</td>\n",
              "      <td>2016</td>\n",
              "      <td>3</td>\n",
              "      <td>1</td>\n",
              "      <td>00011</td>\n",
              "      <td>2016-03-01</td>\n",
              "    </tr>\n",
              "    <tr>\n",
              "      <th>3</th>\n",
              "      <td>4</td>\n",
              "      <td>1</td>\n",
              "      <td>2016</td>\n",
              "      <td>4</td>\n",
              "      <td>1</td>\n",
              "      <td>00008</td>\n",
              "      <td>2016-04-01</td>\n",
              "    </tr>\n",
              "    <tr>\n",
              "      <th>4</th>\n",
              "      <td>4</td>\n",
              "      <td>1</td>\n",
              "      <td>2016</td>\n",
              "      <td>5</td>\n",
              "      <td>1</td>\n",
              "      <td>00007</td>\n",
              "      <td>2016-05-01</td>\n",
              "    </tr>\n",
              "    <tr>\n",
              "      <th>...</th>\n",
              "      <td>...</td>\n",
              "      <td>...</td>\n",
              "      <td>...</td>\n",
              "      <td>...</td>\n",
              "      <td>...</td>\n",
              "      <td>...</td>\n",
              "      <td>...</td>\n",
              "    </tr>\n",
              "    <tr>\n",
              "      <th>225238</th>\n",
              "      <td>60</td>\n",
              "      <td>14</td>\n",
              "      <td>2019</td>\n",
              "      <td>5</td>\n",
              "      <td>31</td>\n",
              "      <td>00085</td>\n",
              "      <td>2019-05-31</td>\n",
              "    </tr>\n",
              "    <tr>\n",
              "      <th>225240</th>\n",
              "      <td>60</td>\n",
              "      <td>14</td>\n",
              "      <td>2019</td>\n",
              "      <td>7</td>\n",
              "      <td>31</td>\n",
              "      <td>00092</td>\n",
              "      <td>2019-07-31</td>\n",
              "    </tr>\n",
              "    <tr>\n",
              "      <th>225241</th>\n",
              "      <td>60</td>\n",
              "      <td>14</td>\n",
              "      <td>2019</td>\n",
              "      <td>8</td>\n",
              "      <td>31</td>\n",
              "      <td>00098</td>\n",
              "      <td>2019-08-31</td>\n",
              "    </tr>\n",
              "    <tr>\n",
              "      <th>225243</th>\n",
              "      <td>60</td>\n",
              "      <td>14</td>\n",
              "      <td>2019</td>\n",
              "      <td>10</td>\n",
              "      <td>31</td>\n",
              "      <td>00047</td>\n",
              "      <td>2019-10-31</td>\n",
              "    </tr>\n",
              "    <tr>\n",
              "      <th>225245</th>\n",
              "      <td>60</td>\n",
              "      <td>14</td>\n",
              "      <td>2019</td>\n",
              "      <td>12</td>\n",
              "      <td>31</td>\n",
              "      <td>00004</td>\n",
              "      <td>2019-12-31</td>\n",
              "    </tr>\n",
              "  </tbody>\n",
              "</table>\n",
              "<p>221158 rows × 7 columns</p>\n",
              "</div>"
            ],
            "text/plain": [
              "        ESTACION  MAGNITUD   ANO  MES  DIA  VALOR      FECHA\n",
              "0              4         1  2016    1    1  00008 2016-01-01\n",
              "1              4         1  2016    2    1  00012 2016-02-01\n",
              "2              4         1  2016    3    1  00011 2016-03-01\n",
              "3              4         1  2016    4    1  00008 2016-04-01\n",
              "4              4         1  2016    5    1  00007 2016-05-01\n",
              "...          ...       ...   ...  ...  ...    ...        ...\n",
              "225238        60        14  2019    5   31  00085 2019-05-31\n",
              "225240        60        14  2019    7   31  00092 2019-07-31\n",
              "225241        60        14  2019    8   31  00098 2019-08-31\n",
              "225243        60        14  2019   10   31  00047 2019-10-31\n",
              "225245        60        14  2019   12   31  00004 2019-12-31\n",
              "\n",
              "[221158 rows x 7 columns]"
            ]
          },
          "metadata": {
            "tags": []
          },
          "execution_count": 8
        }
      ]
    },
    {
      "cell_type": "markdown",
      "metadata": {
        "id": "1xU9qYBl-v3T",
        "colab_type": "text"
      },
      "source": [
        "6.   **Mostrar por pantalla las estaciones y los contaminantes disponibles en el DataFrame.**"
      ]
    },
    {
      "cell_type": "code",
      "metadata": {
        "id": "xeYsc4F9qAzQ",
        "colab_type": "code",
        "colab": {}
      },
      "source": [
        "\n"
      ],
      "execution_count": null,
      "outputs": []
    },
    {
      "cell_type": "markdown",
      "metadata": {
        "id": "HmqdPzzh-16R",
        "colab_type": "text"
      },
      "source": [
        "7.   **Crear una función que reciba una estación, un contaminante y un rango de fechas y devuelva una serie con las emisiones del contaminante dado en la estación y rango de fechas dado.**"
      ]
    },
    {
      "cell_type": "markdown",
      "metadata": {
        "id": "RCz-Rt2T-9PJ",
        "colab_type": "text"
      },
      "source": [
        "8.   **Mostrar un resumen descriptivo (mímino, máximo, media, etc) para cada contaminante.**"
      ]
    },
    {
      "cell_type": "markdown",
      "metadata": {
        "id": "qJDzzok__EG7",
        "colab_type": "text"
      },
      "source": [
        "9.   **Mostrar un resumen descriptivo para cada contaminente por distritos.**"
      ]
    },
    {
      "cell_type": "markdown",
      "metadata": {
        "id": "xmrQGYgR_J-T",
        "colab_type": "text"
      },
      "source": [
        "10.   **Crear una función que reciba una estación y un contaminante y devuelva un resumen descriptivo de las emisiones del contaminante indicado en la estadión indicada.**"
      ]
    },
    {
      "cell_type": "markdown",
      "metadata": {
        "id": "AReQJOvW_Qmq",
        "colab_type": "text"
      },
      "source": [
        "11.   **Crear una función que devuelva las emisiones medias mensuales de un contaminante y un año dados para todos las estaciones.**"
      ]
    },
    {
      "cell_type": "markdown",
      "metadata": {
        "id": "z5vjfNQW_Vpi",
        "colab_type": "text"
      },
      "source": [
        "12.   **Crear un función que reciba una estación de medición y devuelva un DataFrame con las medias mensuales de los distintos tipos de contaminantes.**"
      ]
    }
  ]
}