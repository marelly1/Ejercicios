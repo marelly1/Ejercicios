{
  "nbformat": 4,
  "nbformat_minor": 0,
  "metadata": {
    "colab": {
      "name": "SolEjercicio8Pandas.ipynb",
      "provenance": [],
      "collapsed_sections": [],
      "authorship_tag": "ABX9TyPzXBq1x2uuACqqwd+cUrSX",
      "include_colab_link": true
    },
    "kernelspec": {
      "name": "python3",
      "display_name": "Python 3"
    }
  },
  "cells": [
    {
      "cell_type": "markdown",
      "metadata": {
        "id": "view-in-github",
        "colab_type": "text"
      },
      "source": [
        "<a href=\"https://colab.research.google.com/github/marelly1/Ejercicios/blob/master/SolEjercicio8Pandas.ipynb\" target=\"_parent\"><img src=\"https://colab.research.google.com/assets/colab-badge.svg\" alt=\"Open In Colab\"/></a>"
      ]
    },
    {
      "cell_type": "markdown",
      "metadata": {
        "id": "bct0NRrp9zaX",
        "colab_type": "text"
      },
      "source": [
        "**Ejercicio 8:\n",
        "Los ficheros emisiones-2016.csv, emisiones-2017.csv, emisiones-2018.csv y emisiones-2019.csv, contienen datos sobre las emisiones contaminates en la ciudad de Madrid en los años 2016, 2017, 2018 y 2019 respectivamente. Escribir un programa con los siguientes requisitos:**"
      ]
    },
    {
      "cell_type": "code",
      "metadata": {
        "id": "KqDXlsjQ9pla",
        "colab_type": "code",
        "colab": {}
      },
      "source": [
        "import pandas as pd\n",
        "import numpy as np\n",
        "import datetime as dt\n",
        "from google.colab import files\n",
        "urlEmisiones2016=\"https://raw.githubusercontent.com/marelly1/pandas/master/emisiones-2016.csv\"\n",
        "urlEmisiones2017=\"https://raw.githubusercontent.com/marelly1/pandas/master/emisiones-2017.csv\"\n",
        "urlEmisiones2018=\"https://raw.githubusercontent.com/marelly1/pandas/master/emisiones-2018.csv\"\n",
        "urlEmisiones2019=\"https://raw.githubusercontent.com/marelly1/pandas/master/emisiones-2019.csv\""
      ],
      "execution_count": 19,
      "outputs": []
    },
    {
      "cell_type": "markdown",
      "metadata": {
        "id": "LJX3Tszf94a6",
        "colab_type": "text"
      },
      "source": [
        "1.   **Generar un DataFrame con los datos de los cuatro ficheros.**"
      ]
    },
    {
      "cell_type": "code",
      "metadata": {
        "id": "tm__uvFW_6FP",
        "colab_type": "code",
        "colab": {}
      },
      "source": [
        "datos=pd.read_csv(urlEmisiones2016, encoding=\"Latin-1\", sep=\";\",decimal=\",\")\n",
        "df=pd.DataFrame(datos)\n",
        "datos1=pd.read_csv(urlEmisiones2017, encoding=\"Latin-1\", sep=\";\",decimal=\",\")\n",
        "df1=pd.DataFrame(datos1)\n",
        "datos2=pd.read_csv(urlEmisiones2018, encoding=\"Latin-1\", sep=\";\",decimal=\",\")\n",
        "df2=pd.DataFrame(datos2)\n",
        "datos3=pd.read_csv(urlEmisiones2019, encoding=\"Latin-1\", sep=\";\",decimal=\",\")\n",
        "df3=pd.DataFrame(datos3)\n",
        "#Concatenando los 4 dataframes\n",
        "ab=pd.concat([df, df1,df2,df3])\n",
        "#exportando el archivo a un csv\n",
        "#ab.to_csv(\"concatenado.csv\", encoding=\"Latin-1\")\n",
        "#files.download(\"concatenado.csv\")\n",
        "\n",
        "#ab[dias] = ab[dias].apply(pd.to_numeric)\n"
      ],
      "execution_count": 11,
      "outputs": []
    },
    {
      "cell_type": "markdown",
      "metadata": {
        "id": "6ZqaSUIE-GCi",
        "colab_type": "text"
      },
      "source": [
        "2.   **Filtrar las columnas del DataFrame para quedarse con las columnas ESTACION, MAGNITUD, AÑO, MES y las correspondientes a los días D01, D02, etc.**"
      ]
    },
    {
      "cell_type": "code",
      "metadata": {
        "id": "UVVa6yZpYd7Q",
        "colab_type": "code",
        "colab": {}
      },
      "source": [
        "filtro=ab[[\"ESTACION\",\"MAGNITUD\",\"ANO\",\"MES\",\"D01\",\"D02\",'D03','D04','D05','D06','D07','D08','D09','D10','D11','D12','D13','D14','D15','D16','D17','D18','D19','D20','D21','D22','D23','D24','D25','D26','D27','D28','D29','D30','D31']]\n"
      ],
      "execution_count": 12,
      "outputs": []
    },
    {
      "cell_type": "markdown",
      "metadata": {
        "id": "r5kjDXzh-N6K",
        "colab_type": "text"
      },
      "source": [
        "3.   **Reestructurar el DataFrame para que los valores de los contaminantes de las columnas de los días aparezcan en una única columna.**"
      ]
    },
    {
      "cell_type": "code",
      "metadata": {
        "id": "p5Fu5miD9bbA",
        "colab_type": "code",
        "colab": {
          "base_uri": "https://localhost:8080/",
          "height": 142
        },
        "outputId": "a43b5862-b2a4-417b-8507-e8eab68c2f5a"
      },
      "source": [
        "nuevo = filtro.melt(id_vars=['ESTACION', 'MAGNITUD', 'ANO', 'MES'], var_name='DIA', value_name='VALOR')\n",
        "nuevo.head(3)"
      ],
      "execution_count": 13,
      "outputs": [
        {
          "output_type": "execute_result",
          "data": {
            "text/html": [
              "<div>\n",
              "<style scoped>\n",
              "    .dataframe tbody tr th:only-of-type {\n",
              "        vertical-align: middle;\n",
              "    }\n",
              "\n",
              "    .dataframe tbody tr th {\n",
              "        vertical-align: top;\n",
              "    }\n",
              "\n",
              "    .dataframe thead th {\n",
              "        text-align: right;\n",
              "    }\n",
              "</style>\n",
              "<table border=\"1\" class=\"dataframe\">\n",
              "  <thead>\n",
              "    <tr style=\"text-align: right;\">\n",
              "      <th></th>\n",
              "      <th>ESTACION</th>\n",
              "      <th>MAGNITUD</th>\n",
              "      <th>ANO</th>\n",
              "      <th>MES</th>\n",
              "      <th>DIA</th>\n",
              "      <th>VALOR</th>\n",
              "    </tr>\n",
              "  </thead>\n",
              "  <tbody>\n",
              "    <tr>\n",
              "      <th>0</th>\n",
              "      <td>4</td>\n",
              "      <td>1</td>\n",
              "      <td>2016</td>\n",
              "      <td>1</td>\n",
              "      <td>D01</td>\n",
              "      <td>00008</td>\n",
              "    </tr>\n",
              "    <tr>\n",
              "      <th>1</th>\n",
              "      <td>4</td>\n",
              "      <td>1</td>\n",
              "      <td>2016</td>\n",
              "      <td>2</td>\n",
              "      <td>D01</td>\n",
              "      <td>00012</td>\n",
              "    </tr>\n",
              "    <tr>\n",
              "      <th>2</th>\n",
              "      <td>4</td>\n",
              "      <td>1</td>\n",
              "      <td>2016</td>\n",
              "      <td>3</td>\n",
              "      <td>D01</td>\n",
              "      <td>00011</td>\n",
              "    </tr>\n",
              "  </tbody>\n",
              "</table>\n",
              "</div>"
            ],
            "text/plain": [
              "   ESTACION  MAGNITUD   ANO  MES  DIA  VALOR\n",
              "0         4         1  2016    1  D01  00008\n",
              "1         4         1  2016    2  D01  00012\n",
              "2         4         1  2016    3  D01  00011"
            ]
          },
          "metadata": {
            "tags": []
          },
          "execution_count": 13
        }
      ]
    },
    {
      "cell_type": "markdown",
      "metadata": {
        "id": "21h9I2xi-WSL",
        "colab_type": "text"
      },
      "source": [
        "4.   **Añadir una columna con la fecha a partir de la concatenación del año, el mes y el día (usar el módulo datetime).**"
      ]
    },
    {
      "cell_type": "code",
      "metadata": {
        "id": "fgEuRwKhMgSU",
        "colab_type": "code",
        "colab": {
          "base_uri": "https://localhost:8080/",
          "height": 119
        },
        "outputId": "03383c57-5a9d-481e-c098-06dc8e699c64"
      },
      "source": [
        "nuevo[\"DIA\"] = nuevo.DIA.str.extract(r\"([-+]?\\d*\\.\\d+|\\d+)\", expand=False).astype(np.int64)\n",
        "\n",
        "nuevo[\"FECHA\"]=pd.to_datetime((nuevo.ANO*10000+nuevo.MES*100+nuevo.DIA).apply(str),format=\"%Y%m%d\", errors='coerce')\n",
        "print(nuevo.head(5))"
      ],
      "execution_count": 14,
      "outputs": [
        {
          "output_type": "stream",
          "text": [
            "   ESTACION  MAGNITUD   ANO  MES  DIA  VALOR      FECHA\n",
            "0         4         1  2016    1    1  00008 2016-01-01\n",
            "1         4         1  2016    2    1  00012 2016-02-01\n",
            "2         4         1  2016    3    1  00011 2016-03-01\n",
            "3         4         1  2016    4    1  00008 2016-04-01\n",
            "4         4         1  2016    5    1  00007 2016-05-01\n"
          ],
          "name": "stdout"
        }
      ]
    },
    {
      "cell_type": "markdown",
      "metadata": {
        "id": "eEhowpLm-fX5",
        "colab_type": "text"
      },
      "source": [
        "5.   **Eliminar las filas con fechas no válidas (utilizar la función isnat del módulo numpy) y ordenar el DataFrame por estaciones, contaminantes y fecha.**"
      ]
    },
    {
      "cell_type": "code",
      "metadata": {
        "id": "OyDhKa2EeHz_",
        "colab_type": "code",
        "colab": {
          "base_uri": "https://localhost:8080/",
          "height": 419
        },
        "outputId": "3a17a192-7987-4230-b433-bb48fdfc9578"
      },
      "source": [
        "nuevo = nuevo.drop(nuevo[np.isnat(nuevo.FECHA)].index)\n",
        "nuevo.sort_values(['ESTACION', 'MAGNITUD', 'FECHA'])\n",
        "nuevo"
      ],
      "execution_count": 15,
      "outputs": [
        {
          "output_type": "execute_result",
          "data": {
            "text/html": [
              "<div>\n",
              "<style scoped>\n",
              "    .dataframe tbody tr th:only-of-type {\n",
              "        vertical-align: middle;\n",
              "    }\n",
              "\n",
              "    .dataframe tbody tr th {\n",
              "        vertical-align: top;\n",
              "    }\n",
              "\n",
              "    .dataframe thead th {\n",
              "        text-align: right;\n",
              "    }\n",
              "</style>\n",
              "<table border=\"1\" class=\"dataframe\">\n",
              "  <thead>\n",
              "    <tr style=\"text-align: right;\">\n",
              "      <th></th>\n",
              "      <th>ESTACION</th>\n",
              "      <th>MAGNITUD</th>\n",
              "      <th>ANO</th>\n",
              "      <th>MES</th>\n",
              "      <th>DIA</th>\n",
              "      <th>VALOR</th>\n",
              "      <th>FECHA</th>\n",
              "    </tr>\n",
              "  </thead>\n",
              "  <tbody>\n",
              "    <tr>\n",
              "      <th>0</th>\n",
              "      <td>4</td>\n",
              "      <td>1</td>\n",
              "      <td>2016</td>\n",
              "      <td>1</td>\n",
              "      <td>1</td>\n",
              "      <td>00008</td>\n",
              "      <td>2016-01-01</td>\n",
              "    </tr>\n",
              "    <tr>\n",
              "      <th>1</th>\n",
              "      <td>4</td>\n",
              "      <td>1</td>\n",
              "      <td>2016</td>\n",
              "      <td>2</td>\n",
              "      <td>1</td>\n",
              "      <td>00012</td>\n",
              "      <td>2016-02-01</td>\n",
              "    </tr>\n",
              "    <tr>\n",
              "      <th>2</th>\n",
              "      <td>4</td>\n",
              "      <td>1</td>\n",
              "      <td>2016</td>\n",
              "      <td>3</td>\n",
              "      <td>1</td>\n",
              "      <td>00011</td>\n",
              "      <td>2016-03-01</td>\n",
              "    </tr>\n",
              "    <tr>\n",
              "      <th>3</th>\n",
              "      <td>4</td>\n",
              "      <td>1</td>\n",
              "      <td>2016</td>\n",
              "      <td>4</td>\n",
              "      <td>1</td>\n",
              "      <td>00008</td>\n",
              "      <td>2016-04-01</td>\n",
              "    </tr>\n",
              "    <tr>\n",
              "      <th>4</th>\n",
              "      <td>4</td>\n",
              "      <td>1</td>\n",
              "      <td>2016</td>\n",
              "      <td>5</td>\n",
              "      <td>1</td>\n",
              "      <td>00007</td>\n",
              "      <td>2016-05-01</td>\n",
              "    </tr>\n",
              "    <tr>\n",
              "      <th>...</th>\n",
              "      <td>...</td>\n",
              "      <td>...</td>\n",
              "      <td>...</td>\n",
              "      <td>...</td>\n",
              "      <td>...</td>\n",
              "      <td>...</td>\n",
              "      <td>...</td>\n",
              "    </tr>\n",
              "    <tr>\n",
              "      <th>225238</th>\n",
              "      <td>60</td>\n",
              "      <td>14</td>\n",
              "      <td>2019</td>\n",
              "      <td>5</td>\n",
              "      <td>31</td>\n",
              "      <td>00085</td>\n",
              "      <td>2019-05-31</td>\n",
              "    </tr>\n",
              "    <tr>\n",
              "      <th>225240</th>\n",
              "      <td>60</td>\n",
              "      <td>14</td>\n",
              "      <td>2019</td>\n",
              "      <td>7</td>\n",
              "      <td>31</td>\n",
              "      <td>00092</td>\n",
              "      <td>2019-07-31</td>\n",
              "    </tr>\n",
              "    <tr>\n",
              "      <th>225241</th>\n",
              "      <td>60</td>\n",
              "      <td>14</td>\n",
              "      <td>2019</td>\n",
              "      <td>8</td>\n",
              "      <td>31</td>\n",
              "      <td>00098</td>\n",
              "      <td>2019-08-31</td>\n",
              "    </tr>\n",
              "    <tr>\n",
              "      <th>225243</th>\n",
              "      <td>60</td>\n",
              "      <td>14</td>\n",
              "      <td>2019</td>\n",
              "      <td>10</td>\n",
              "      <td>31</td>\n",
              "      <td>00047</td>\n",
              "      <td>2019-10-31</td>\n",
              "    </tr>\n",
              "    <tr>\n",
              "      <th>225245</th>\n",
              "      <td>60</td>\n",
              "      <td>14</td>\n",
              "      <td>2019</td>\n",
              "      <td>12</td>\n",
              "      <td>31</td>\n",
              "      <td>00004</td>\n",
              "      <td>2019-12-31</td>\n",
              "    </tr>\n",
              "  </tbody>\n",
              "</table>\n",
              "<p>221158 rows × 7 columns</p>\n",
              "</div>"
            ],
            "text/plain": [
              "        ESTACION  MAGNITUD   ANO  MES  DIA  VALOR      FECHA\n",
              "0              4         1  2016    1    1  00008 2016-01-01\n",
              "1              4         1  2016    2    1  00012 2016-02-01\n",
              "2              4         1  2016    3    1  00011 2016-03-01\n",
              "3              4         1  2016    4    1  00008 2016-04-01\n",
              "4              4         1  2016    5    1  00007 2016-05-01\n",
              "...          ...       ...   ...  ...  ...    ...        ...\n",
              "225238        60        14  2019    5   31  00085 2019-05-31\n",
              "225240        60        14  2019    7   31  00092 2019-07-31\n",
              "225241        60        14  2019    8   31  00098 2019-08-31\n",
              "225243        60        14  2019   10   31  00047 2019-10-31\n",
              "225245        60        14  2019   12   31  00004 2019-12-31\n",
              "\n",
              "[221158 rows x 7 columns]"
            ]
          },
          "metadata": {
            "tags": []
          },
          "execution_count": 15
        }
      ]
    },
    {
      "cell_type": "markdown",
      "metadata": {
        "id": "1xU9qYBl-v3T",
        "colab_type": "text"
      },
      "source": [
        "6.   **Mostrar por pantalla las estaciones y los contaminantes disponibles en el DataFrame.**"
      ]
    },
    {
      "cell_type": "code",
      "metadata": {
        "id": "xeYsc4F9qAzQ",
        "colab_type": "code",
        "colab": {
          "base_uri": "https://localhost:8080/",
          "height": 51
        },
        "outputId": "08d457ca-e3b2-43df-8b27-015b12555cd0"
      },
      "source": [
        "# Mostrar las estaciones disponibles\n",
        "print('Estaciones:', nuevo.ESTACION.unique())\n",
        "# Mostrar los contaminantes disponibles\n",
        "print('Contaminantes:', nuevo.MAGNITUD.unique())\n"
      ],
      "execution_count": 17,
      "outputs": [
        {
          "output_type": "stream",
          "text": [
            "Estaciones: [ 4  8 11 16 17 18 24 27 35 36 38 39 40 47 48 49 50 54 55 56 57 58 59 60]\n",
            "Contaminantes: [ 1  6  7  8 12  9 10 14 20 30 35 42 43 44]\n"
          ],
          "name": "stdout"
        }
      ]
    },
    {
      "cell_type": "markdown",
      "metadata": {
        "id": "HmqdPzzh-16R",
        "colab_type": "text"
      },
      "source": [
        "7.   **Crear una función que reciba una estación, un contaminante y un rango de fechas y devuelva una serie con las emisiones del contaminante dado en la estación y rango de fechas dado.**"
      ]
    },
    {
      "cell_type": "code",
      "metadata": {
        "id": "ZVfwviSlPURN",
        "colab_type": "code",
        "colab": {
          "base_uri": "https://localhost:8080/",
          "height": 221
        },
        "outputId": "5a6de2b1-a6d7-4818-fb64-2b6b51792ade"
      },
      "source": [
        "def evolucion(estacion, contaminante, desde, hasta):\n",
        "    return nuevo[(nuevo.ESTACION == estacion) & (nuevo.MAGNITUD == contaminante) & (nuevo.FECHA >= desde) & (nuevo.FECHA <= hasta)].sort_values('FECHA').VALOR\n",
        "evolucion(56, 8, dt.datetime.strptime('2018/10/25', '%Y/%m/%d'), dt.datetime.strptime('2019/02/12', '%Y/%m/%d'))"
      ],
      "execution_count": 20,
      "outputs": [
        {
          "output_type": "execute_result",
          "data": {
            "text/plain": [
              "179559    00089\n",
              "186825    00087\n",
              "194091    00046\n",
              "201357    00038\n",
              "208623    00029\n",
              "          ...  \n",
              "57841     00082\n",
              "65107     00064\n",
              "72373     00026\n",
              "79639     00059\n",
              "86905     00071\n",
              "Name: VALOR, Length: 111, dtype: object"
            ]
          },
          "metadata": {
            "tags": []
          },
          "execution_count": 20
        }
      ]
    },
    {
      "cell_type": "markdown",
      "metadata": {
        "id": "RCz-Rt2T-9PJ",
        "colab_type": "text"
      },
      "source": [
        "8.   **Mostrar un resumen descriptivo (mímino, máximo, media, etc) para cada contaminante.**"
      ]
    },
    {
      "cell_type": "code",
      "metadata": {
        "id": "x6pHNiSTQwbc",
        "colab_type": "code",
        "colab": {
          "base_uri": "https://localhost:8080/",
          "height": 514
        },
        "outputId": "a76e7b1c-3d05-46ce-971a-744798512294"
      },
      "source": [
        "nuevo.groupby('MAGNITUD').VALOR.describe()"
      ],
      "execution_count": 23,
      "outputs": [
        {
          "output_type": "execute_result",
          "data": {
            "text/html": [
              "<div>\n",
              "<style scoped>\n",
              "    .dataframe tbody tr th:only-of-type {\n",
              "        vertical-align: middle;\n",
              "    }\n",
              "\n",
              "    .dataframe tbody tr th {\n",
              "        vertical-align: top;\n",
              "    }\n",
              "\n",
              "    .dataframe thead th {\n",
              "        text-align: right;\n",
              "    }\n",
              "</style>\n",
              "<table border=\"1\" class=\"dataframe\">\n",
              "  <thead>\n",
              "    <tr style=\"text-align: right;\">\n",
              "      <th></th>\n",
              "      <th>count</th>\n",
              "      <th>unique</th>\n",
              "      <th>top</th>\n",
              "      <th>freq</th>\n",
              "    </tr>\n",
              "    <tr>\n",
              "      <th>MAGNITUD</th>\n",
              "      <th></th>\n",
              "      <th></th>\n",
              "      <th></th>\n",
              "      <th></th>\n",
              "    </tr>\n",
              "  </thead>\n",
              "  <tbody>\n",
              "    <tr>\n",
              "      <th>1</th>\n",
              "      <td>14610</td>\n",
              "      <td>45</td>\n",
              "      <td>00005</td>\n",
              "      <td>1549</td>\n",
              "    </tr>\n",
              "    <tr>\n",
              "      <th>6</th>\n",
              "      <td>14610</td>\n",
              "      <td>21</td>\n",
              "      <td>000.3</td>\n",
              "      <td>4511</td>\n",
              "    </tr>\n",
              "    <tr>\n",
              "      <th>7</th>\n",
              "      <td>35064</td>\n",
              "      <td>247</td>\n",
              "      <td>00002</td>\n",
              "      <td>3121</td>\n",
              "    </tr>\n",
              "    <tr>\n",
              "      <th>8</th>\n",
              "      <td>35064</td>\n",
              "      <td>135</td>\n",
              "      <td>00027</td>\n",
              "      <td>774</td>\n",
              "    </tr>\n",
              "    <tr>\n",
              "      <th>9</th>\n",
              "      <td>8948</td>\n",
              "      <td>52</td>\n",
              "      <td>00008</td>\n",
              "      <td>728</td>\n",
              "    </tr>\n",
              "    <tr>\n",
              "      <th>10</th>\n",
              "      <td>17897</td>\n",
              "      <td>115</td>\n",
              "      <td>00011</td>\n",
              "      <td>848</td>\n",
              "    </tr>\n",
              "    <tr>\n",
              "      <th>12</th>\n",
              "      <td>35064</td>\n",
              "      <td>452</td>\n",
              "      <td>00026</td>\n",
              "      <td>530</td>\n",
              "    </tr>\n",
              "    <tr>\n",
              "      <th>14</th>\n",
              "      <td>20454</td>\n",
              "      <td>123</td>\n",
              "      <td>00059</td>\n",
              "      <td>319</td>\n",
              "    </tr>\n",
              "    <tr>\n",
              "      <th>20</th>\n",
              "      <td>8766</td>\n",
              "      <td>188</td>\n",
              "      <td>000.9</td>\n",
              "      <td>349</td>\n",
              "    </tr>\n",
              "    <tr>\n",
              "      <th>30</th>\n",
              "      <td>8766</td>\n",
              "      <td>48</td>\n",
              "      <td>000.2</td>\n",
              "      <td>1859</td>\n",
              "    </tr>\n",
              "    <tr>\n",
              "      <th>35</th>\n",
              "      <td>8766</td>\n",
              "      <td>111</td>\n",
              "      <td>000.1</td>\n",
              "      <td>2677</td>\n",
              "    </tr>\n",
              "    <tr>\n",
              "      <th>42</th>\n",
              "      <td>4383</td>\n",
              "      <td>167</td>\n",
              "      <td>01.26</td>\n",
              "      <td>124</td>\n",
              "    </tr>\n",
              "    <tr>\n",
              "      <th>43</th>\n",
              "      <td>4383</td>\n",
              "      <td>157</td>\n",
              "      <td>01.20</td>\n",
              "      <td>131</td>\n",
              "    </tr>\n",
              "    <tr>\n",
              "      <th>44</th>\n",
              "      <td>4383</td>\n",
              "      <td>54</td>\n",
              "      <td>00.06</td>\n",
              "      <td>368</td>\n",
              "    </tr>\n",
              "  </tbody>\n",
              "</table>\n",
              "</div>"
            ],
            "text/plain": [
              "          count unique    top  freq\n",
              "MAGNITUD                           \n",
              "1         14610     45  00005  1549\n",
              "6         14610     21  000.3  4511\n",
              "7         35064    247  00002  3121\n",
              "8         35064    135  00027   774\n",
              "9          8948     52  00008   728\n",
              "10        17897    115  00011   848\n",
              "12        35064    452  00026   530\n",
              "14        20454    123  00059   319\n",
              "20         8766    188  000.9   349\n",
              "30         8766     48  000.2  1859\n",
              "35         8766    111  000.1  2677\n",
              "42         4383    167  01.26   124\n",
              "43         4383    157  01.20   131\n",
              "44         4383     54  00.06   368"
            ]
          },
          "metadata": {
            "tags": []
          },
          "execution_count": 23
        }
      ]
    },
    {
      "cell_type": "markdown",
      "metadata": {
        "id": "qJDzzok__EG7",
        "colab_type": "text"
      },
      "source": [
        "9.   **Mostrar un resumen descriptivo para cada contaminente por distritos.**"
      ]
    },
    {
      "cell_type": "code",
      "metadata": {
        "id": "bmmfrgA_SldV",
        "colab_type": "code",
        "colab": {
          "base_uri": "https://localhost:8080/",
          "height": 450
        },
        "outputId": "d5e6b34c-c815-46e1-af0a-5ba7dd174776"
      },
      "source": [
        "nuevo.groupby(['ESTACION', 'MAGNITUD']).VALOR.describe()"
      ],
      "execution_count": 24,
      "outputs": [
        {
          "output_type": "execute_result",
          "data": {
            "text/html": [
              "<div>\n",
              "<style scoped>\n",
              "    .dataframe tbody tr th:only-of-type {\n",
              "        vertical-align: middle;\n",
              "    }\n",
              "\n",
              "    .dataframe tbody tr th {\n",
              "        vertical-align: top;\n",
              "    }\n",
              "\n",
              "    .dataframe thead th {\n",
              "        text-align: right;\n",
              "    }\n",
              "</style>\n",
              "<table border=\"1\" class=\"dataframe\">\n",
              "  <thead>\n",
              "    <tr style=\"text-align: right;\">\n",
              "      <th></th>\n",
              "      <th></th>\n",
              "      <th>count</th>\n",
              "      <th>unique</th>\n",
              "      <th>top</th>\n",
              "      <th>freq</th>\n",
              "    </tr>\n",
              "    <tr>\n",
              "      <th>ESTACION</th>\n",
              "      <th>MAGNITUD</th>\n",
              "      <th></th>\n",
              "      <th></th>\n",
              "      <th></th>\n",
              "      <th></th>\n",
              "    </tr>\n",
              "  </thead>\n",
              "  <tbody>\n",
              "    <tr>\n",
              "      <th rowspan=\"5\" valign=\"top\">4</th>\n",
              "      <th>1</th>\n",
              "      <td>1461</td>\n",
              "      <td>25</td>\n",
              "      <td>00007</td>\n",
              "      <td>228</td>\n",
              "    </tr>\n",
              "    <tr>\n",
              "      <th>6</th>\n",
              "      <td>1461</td>\n",
              "      <td>13</td>\n",
              "      <td>000.3</td>\n",
              "      <td>540</td>\n",
              "    </tr>\n",
              "    <tr>\n",
              "      <th>7</th>\n",
              "      <td>1461</td>\n",
              "      <td>163</td>\n",
              "      <td>00007</td>\n",
              "      <td>85</td>\n",
              "    </tr>\n",
              "    <tr>\n",
              "      <th>8</th>\n",
              "      <td>1461</td>\n",
              "      <td>96</td>\n",
              "      <td>00026</td>\n",
              "      <td>40</td>\n",
              "    </tr>\n",
              "    <tr>\n",
              "      <th>12</th>\n",
              "      <td>1461</td>\n",
              "      <td>280</td>\n",
              "      <td>00036</td>\n",
              "      <td>30</td>\n",
              "    </tr>\n",
              "    <tr>\n",
              "      <th>...</th>\n",
              "      <th>...</th>\n",
              "      <td>...</td>\n",
              "      <td>...</td>\n",
              "      <td>...</td>\n",
              "      <td>...</td>\n",
              "    </tr>\n",
              "    <tr>\n",
              "      <th rowspan=\"5\" valign=\"top\">60</th>\n",
              "      <th>7</th>\n",
              "      <td>1461</td>\n",
              "      <td>99</td>\n",
              "      <td>00002</td>\n",
              "      <td>237</td>\n",
              "    </tr>\n",
              "    <tr>\n",
              "      <th>8</th>\n",
              "      <td>1461</td>\n",
              "      <td>92</td>\n",
              "      <td>00023</td>\n",
              "      <td>55</td>\n",
              "    </tr>\n",
              "    <tr>\n",
              "      <th>10</th>\n",
              "      <td>1461</td>\n",
              "      <td>64</td>\n",
              "      <td>00014</td>\n",
              "      <td>82</td>\n",
              "    </tr>\n",
              "    <tr>\n",
              "      <th>12</th>\n",
              "      <td>1461</td>\n",
              "      <td>188</td>\n",
              "      <td>00022</td>\n",
              "      <td>43</td>\n",
              "    </tr>\n",
              "    <tr>\n",
              "      <th>14</th>\n",
              "      <td>1461</td>\n",
              "      <td>114</td>\n",
              "      <td>00075</td>\n",
              "      <td>30</td>\n",
              "    </tr>\n",
              "  </tbody>\n",
              "</table>\n",
              "<p>153 rows × 4 columns</p>\n",
              "</div>"
            ],
            "text/plain": [
              "                  count unique    top freq\n",
              "ESTACION MAGNITUD                         \n",
              "4        1         1461     25  00007  228\n",
              "         6         1461     13  000.3  540\n",
              "         7         1461    163  00007   85\n",
              "         8         1461     96  00026   40\n",
              "         12        1461    280  00036   30\n",
              "...                 ...    ...    ...  ...\n",
              "60       7         1461     99  00002  237\n",
              "         8         1461     92  00023   55\n",
              "         10        1461     64  00014   82\n",
              "         12        1461    188  00022   43\n",
              "         14        1461    114  00075   30\n",
              "\n",
              "[153 rows x 4 columns]"
            ]
          },
          "metadata": {
            "tags": []
          },
          "execution_count": 24
        }
      ]
    },
    {
      "cell_type": "markdown",
      "metadata": {
        "id": "xmrQGYgR_J-T",
        "colab_type": "text"
      },
      "source": [
        "10.   **Crear una función que reciba una estación y un contaminante y devuelva un resumen descriptivo de las emisiones del contaminante indicado en la estadión indicada.**"
      ]
    },
    {
      "cell_type": "code",
      "metadata": {
        "id": "QIx4TnJjS8Kc",
        "colab_type": "code",
        "colab": {
          "base_uri": "https://localhost:8080/",
          "height": 238
        },
        "outputId": "1d767673-d6c3-4c5b-8ac4-e4116ae1b25e"
      },
      "source": [
        "def resumen(estacion, contaminante):\n",
        "    return nuevo[(nuevo.ESTACION == estacion) & (nuevo.MAGNITUD == contaminante)].VALOR.describe()\n",
        "\n",
        "# Resumen de Dióxido de Nitrógeno en Plaza Elíptica\n",
        "print('Resumen Dióxido de Nitrógeno en Plaza Elíptica:\\n', resumen(56, 8),'\\n', sep='')\n",
        "# Resumen de Dióxido de Nitrógeno en Plaza del Carmen\n",
        "print('Resumen Dióxido de Nitrógeno en Plaza del Carmen:\\n', resumen(35, 8), sep='')"
      ],
      "execution_count": 25,
      "outputs": [
        {
          "output_type": "stream",
          "text": [
            "Resumen Dióxido de Nitrógeno en Plaza Elíptica:\n",
            "count      1461\n",
            "unique      114\n",
            "top       00045\n",
            "freq         35\n",
            "Name: VALOR, dtype: object\n",
            "\n",
            "Resumen Dióxido de Nitrógeno en Plaza del Carmen:\n",
            "count      1461\n",
            "unique       86\n",
            "top       00048\n",
            "freq         48\n",
            "Name: VALOR, dtype: object\n"
          ],
          "name": "stdout"
        }
      ]
    },
    {
      "cell_type": "markdown",
      "metadata": {
        "id": "AReQJOvW_Qmq",
        "colab_type": "text"
      },
      "source": [
        "11.   **Crear una función que devuelva las emisiones medias mensuales de un contaminante y un año dados para todos las estaciones.**"
      ]
    },
    {
      "cell_type": "code",
      "metadata": {
        "id": "kZSSlCUOT4bP",
        "colab_type": "code",
        "colab": {
          "base_uri": "https://localhost:8080/",
          "height": 340
        },
        "outputId": "8efd753a-f4f2-4255-f034-29e9a223b487"
      },
      "source": [
        "# Función que devuelve una serie con las emisiones medias mensuales de un contaminante y un mes año para todos las estaciones\n",
        "def evolucion_mensual(contaminante, año):\n",
        "    return nuevo[(nuevo.MAGNITUD == contaminante) & (nuevo.ANO == año)].groupby(['ESTACION', 'MES']).VALOR.mean().unstack('MES')\n",
        "\n",
        "# Evolución del dióxido de nitrógeno en 2019\n",
        "evolucion_mensual(8, 2019)"
      ],
      "execution_count": 26,
      "outputs": [
        {
          "output_type": "error",
          "ename": "DataError",
          "evalue": "ignored",
          "traceback": [
            "\u001b[0;31m---------------------------------------------------------------------------\u001b[0m",
            "\u001b[0;31mDataError\u001b[0m                                 Traceback (most recent call last)",
            "\u001b[0;32m<ipython-input-26-779f9b7792c8>\u001b[0m in \u001b[0;36m<module>\u001b[0;34m()\u001b[0m\n\u001b[1;32m      4\u001b[0m \u001b[0;34m\u001b[0m\u001b[0m\n\u001b[1;32m      5\u001b[0m \u001b[0;31m# Evolución del dióxido de nitrógeno en 2019\u001b[0m\u001b[0;34m\u001b[0m\u001b[0;34m\u001b[0m\u001b[0;34m\u001b[0m\u001b[0m\n\u001b[0;32m----> 6\u001b[0;31m \u001b[0mevolucion_mensual\u001b[0m\u001b[0;34m(\u001b[0m\u001b[0;36m8\u001b[0m\u001b[0;34m,\u001b[0m \u001b[0;36m2019\u001b[0m\u001b[0;34m)\u001b[0m\u001b[0;34m\u001b[0m\u001b[0;34m\u001b[0m\u001b[0m\n\u001b[0m",
            "\u001b[0;32m<ipython-input-26-779f9b7792c8>\u001b[0m in \u001b[0;36mevolucion_mensual\u001b[0;34m(contaminante, año)\u001b[0m\n\u001b[1;32m      1\u001b[0m \u001b[0;31m# Función que devuelve una serie con las emisiones medias mensuales de un contaminante y un mes año para todos las estaciones\u001b[0m\u001b[0;34m\u001b[0m\u001b[0;34m\u001b[0m\u001b[0;34m\u001b[0m\u001b[0m\n\u001b[1;32m      2\u001b[0m \u001b[0;32mdef\u001b[0m \u001b[0mevolucion_mensual\u001b[0m\u001b[0;34m(\u001b[0m\u001b[0mcontaminante\u001b[0m\u001b[0;34m,\u001b[0m \u001b[0maño\u001b[0m\u001b[0;34m)\u001b[0m\u001b[0;34m:\u001b[0m\u001b[0;34m\u001b[0m\u001b[0;34m\u001b[0m\u001b[0m\n\u001b[0;32m----> 3\u001b[0;31m     \u001b[0;32mreturn\u001b[0m \u001b[0mnuevo\u001b[0m\u001b[0;34m[\u001b[0m\u001b[0;34m(\u001b[0m\u001b[0mnuevo\u001b[0m\u001b[0;34m.\u001b[0m\u001b[0mMAGNITUD\u001b[0m \u001b[0;34m==\u001b[0m \u001b[0mcontaminante\u001b[0m\u001b[0;34m)\u001b[0m \u001b[0;34m&\u001b[0m \u001b[0;34m(\u001b[0m\u001b[0mnuevo\u001b[0m\u001b[0;34m.\u001b[0m\u001b[0mANO\u001b[0m \u001b[0;34m==\u001b[0m \u001b[0maño\u001b[0m\u001b[0;34m)\u001b[0m\u001b[0;34m]\u001b[0m\u001b[0;34m.\u001b[0m\u001b[0mgroupby\u001b[0m\u001b[0;34m(\u001b[0m\u001b[0;34m[\u001b[0m\u001b[0;34m'ESTACION'\u001b[0m\u001b[0;34m,\u001b[0m \u001b[0;34m'MES'\u001b[0m\u001b[0;34m]\u001b[0m\u001b[0;34m)\u001b[0m\u001b[0;34m.\u001b[0m\u001b[0mVALOR\u001b[0m\u001b[0;34m.\u001b[0m\u001b[0mmean\u001b[0m\u001b[0;34m(\u001b[0m\u001b[0;34m)\u001b[0m\u001b[0;34m.\u001b[0m\u001b[0munstack\u001b[0m\u001b[0;34m(\u001b[0m\u001b[0;34m'MES'\u001b[0m\u001b[0;34m)\u001b[0m\u001b[0;34m\u001b[0m\u001b[0;34m\u001b[0m\u001b[0m\n\u001b[0m\u001b[1;32m      4\u001b[0m \u001b[0;34m\u001b[0m\u001b[0m\n\u001b[1;32m      5\u001b[0m \u001b[0;31m# Evolución del dióxido de nitrógeno en 2019\u001b[0m\u001b[0;34m\u001b[0m\u001b[0;34m\u001b[0m\u001b[0;34m\u001b[0m\u001b[0m\n",
            "\u001b[0;32m/usr/local/lib/python3.6/dist-packages/pandas/core/groupby/groupby.py\u001b[0m in \u001b[0;36mmean\u001b[0;34m(self, *args, **kwargs)\u001b[0m\n\u001b[1;32m   1224\u001b[0m         \u001b[0mnv\u001b[0m\u001b[0;34m.\u001b[0m\u001b[0mvalidate_groupby_func\u001b[0m\u001b[0;34m(\u001b[0m\u001b[0;34m\"mean\"\u001b[0m\u001b[0;34m,\u001b[0m \u001b[0margs\u001b[0m\u001b[0;34m,\u001b[0m \u001b[0mkwargs\u001b[0m\u001b[0;34m,\u001b[0m \u001b[0;34m[\u001b[0m\u001b[0;34m\"numeric_only\"\u001b[0m\u001b[0;34m]\u001b[0m\u001b[0;34m)\u001b[0m\u001b[0;34m\u001b[0m\u001b[0;34m\u001b[0m\u001b[0m\n\u001b[1;32m   1225\u001b[0m         return self._cython_agg_general(\n\u001b[0;32m-> 1226\u001b[0;31m             \u001b[0;34m\"mean\"\u001b[0m\u001b[0;34m,\u001b[0m \u001b[0malt\u001b[0m\u001b[0;34m=\u001b[0m\u001b[0;32mlambda\u001b[0m \u001b[0mx\u001b[0m\u001b[0;34m,\u001b[0m \u001b[0maxis\u001b[0m\u001b[0;34m:\u001b[0m \u001b[0mSeries\u001b[0m\u001b[0;34m(\u001b[0m\u001b[0mx\u001b[0m\u001b[0;34m)\u001b[0m\u001b[0;34m.\u001b[0m\u001b[0mmean\u001b[0m\u001b[0;34m(\u001b[0m\u001b[0;34m**\u001b[0m\u001b[0mkwargs\u001b[0m\u001b[0;34m)\u001b[0m\u001b[0;34m,\u001b[0m \u001b[0;34m**\u001b[0m\u001b[0mkwargs\u001b[0m\u001b[0;34m\u001b[0m\u001b[0;34m\u001b[0m\u001b[0m\n\u001b[0m\u001b[1;32m   1227\u001b[0m         )\n\u001b[1;32m   1228\u001b[0m \u001b[0;34m\u001b[0m\u001b[0m\n",
            "\u001b[0;32m/usr/local/lib/python3.6/dist-packages/pandas/core/groupby/groupby.py\u001b[0m in \u001b[0;36m_cython_agg_general\u001b[0;34m(self, how, alt, numeric_only, min_count)\u001b[0m\n\u001b[1;32m    906\u001b[0m \u001b[0;34m\u001b[0m\u001b[0m\n\u001b[1;32m    907\u001b[0m         \u001b[0;32mif\u001b[0m \u001b[0mlen\u001b[0m\u001b[0;34m(\u001b[0m\u001b[0moutput\u001b[0m\u001b[0;34m)\u001b[0m \u001b[0;34m==\u001b[0m \u001b[0;36m0\u001b[0m\u001b[0;34m:\u001b[0m\u001b[0;34m\u001b[0m\u001b[0;34m\u001b[0m\u001b[0m\n\u001b[0;32m--> 908\u001b[0;31m             \u001b[0;32mraise\u001b[0m \u001b[0mDataError\u001b[0m\u001b[0;34m(\u001b[0m\u001b[0;34m\"No numeric types to aggregate\"\u001b[0m\u001b[0;34m)\u001b[0m\u001b[0;34m\u001b[0m\u001b[0;34m\u001b[0m\u001b[0m\n\u001b[0m\u001b[1;32m    909\u001b[0m \u001b[0;34m\u001b[0m\u001b[0m\n\u001b[1;32m    910\u001b[0m         \u001b[0;32mreturn\u001b[0m \u001b[0mself\u001b[0m\u001b[0;34m.\u001b[0m\u001b[0m_wrap_aggregated_output\u001b[0m\u001b[0;34m(\u001b[0m\u001b[0moutput\u001b[0m\u001b[0;34m)\u001b[0m\u001b[0;34m\u001b[0m\u001b[0;34m\u001b[0m\u001b[0m\n",
            "\u001b[0;31mDataError\u001b[0m: No numeric types to aggregate"
          ]
        }
      ]
    },
    {
      "cell_type": "markdown",
      "metadata": {
        "id": "z5vjfNQW_Vpi",
        "colab_type": "text"
      },
      "source": [
        "12.   **Crear un función que reciba una estación de medición y devuelva un DataFrame con las medias mensuales de los distintos tipos de contaminantes.**"
      ]
    },
    {
      "cell_type": "code",
      "metadata": {
        "id": "cMYfDxd9VRcc",
        "colab_type": "code",
        "colab": {}
      },
      "source": [
        "# Mostrar la edad media de las mujeres que viajaban en cada clase.\n",
        "print(titanic.groupby(['Pclass','Sex'])['Age'].mean().unstack()['female'])"
      ],
      "execution_count": null,
      "outputs": []
    },
    {
      "cell_type": "code",
      "metadata": {
        "id": "zJiOZNRLVTDK",
        "colab_type": "code",
        "colab": {}
      },
      "source": [
        "# Añadir una nueva columna booleana para ver si el pasajero era menor de edad o no.\n",
        "titanic['Young'] = titanic['Age'] < 18"
      ],
      "execution_count": null,
      "outputs": []
    },
    {
      "cell_type": "code",
      "metadata": {
        "id": "KI3l-stVVTn-",
        "colab_type": "code",
        "colab": {}
      },
      "source": [
        "# Mostrar el porcentaje de menores y mayores de edad que sobrevivieron en cada clase.\n",
        "print(titanic.groupby(['Pclass', 'Young'])['Survived'].value_counts(normalize = True) * 100)"
      ],
      "execution_count": null,
      "outputs": []
    }
  ]
}